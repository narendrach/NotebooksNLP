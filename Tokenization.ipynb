{
 "cells": [
  {
   "cell_type": "markdown",
   "metadata": {},
   "source": [
    "# Tokenization"
   ]
  },
  {
   "cell_type": "markdown",
   "metadata": {},
   "source": [
    "## Frequency of words in a file\n",
    "Now we will read a sample chat file and then try to find the frequency of words in it."
   ]
  },
  {
   "cell_type": "code",
   "execution_count": 14,
   "metadata": {
    "collapsed": false
   },
   "outputs": [],
   "source": [
    "%matplotlib inline\n",
    "import string\n",
    "import matplotlib.pyplot as plt\n",
    "import nltk\n",
    "f=open('Chat1.txt','r')\n",
    "content=f.read()\n",
    "wordlist=string.split(content)\n"
   ]
  },
  {
   "cell_type": "code",
   "execution_count": 15,
   "metadata": {
    "collapsed": false
   },
   "outputs": [
    {
     "data": {
      "image/png": "[encoded data removed]",
      "text/plain": [
       "<matplotlib.figure.Figure at 0x16ff5c18>"
      ]
     },
     "metadata": {},
     "output_type": "display_data"
    }
   ],
   "source": [
    "wordset=set(wordlist)\n",
    "y=[]\n",
    "for item in wordset:\n",
    "    y.append(wordlist.count(item))\n",
    "#print y\n",
    "N = len(y)\n",
    "x = range(N)\n",
    "width = 1/0.5\n",
    "plt.bar(x, y, width, color=\"blue\")\n",
    "plt.show()\n"
   ]
  },
  {
   "cell_type": "markdown",
   "metadata": {},
   "source": [
    "## Lowercasing all words"
   ]
  },
  {
   "cell_type": "code",
   "execution_count": 16,
   "metadata": {
    "collapsed": false
   },
   "outputs": [
    {
     "data": {
      "image/png": "[encoded data removed]",
      "text/plain": [
       "<matplotlib.figure.Figure at 0x16ff5550>"
      ]
     },
     "metadata": {},
     "output_type": "display_data"
    }
   ],
   "source": [
    "i=0\n",
    "for word1 in wordlist:\n",
    "    wordlist[i]=word1.lower()\n",
    "    i=i+1    \n",
    "wordset=set(wordlist)\n",
    "y=[]\n",
    "for item in wordset:\n",
    "    y.append(wordlist.count(item))\n",
    "N = len(y)\n",
    "x = range(N)\n",
    "width = 1/0.5\n",
    "plt.bar(x, y, width, color=\"blue\")\n",
    "plt.show()\n"
   ]
  },
  {
   "cell_type": "markdown",
   "metadata": {},
   "source": [
    "## LowerCase And Removal of Punctuation Marks"
   ]
  },
  {
   "cell_type": "code",
   "execution_count": 17,
   "metadata": {
    "collapsed": false
   },
   "outputs": [
    {
     "data": {
      "image/png": "[encoded data removed]",
      "text/plain": [
       "<matplotlib.figure.Figure at 0x91b75c0>"
      ]
     },
     "metadata": {},
     "output_type": "display_data"
    }
   ],
   "source": [
    "i=0\n",
    "for word1 in wordlist:\n",
    "    wordlist[i]=word1.lower()\n",
    "    #Takes Care of Multiple Punctuation Marks\n",
    "    wordlist[i]=word1.replace('.','').replace(',','').replace(':','').replace(';','').replace('!','').replace('?','').replace('(','').replace(')','')      \n",
    "    i=i+1    \n",
    "wordset=set(wordlist)\n",
    "y=[]\n",
    "for item in wordset:\n",
    "    y.append(wordlist.count(item))\n",
    "N = len(y)\n",
    "x = range(N)\n",
    "width = 1/0.5\n",
    "plt.bar(x, y, width, color=\"blue\")\n",
    "plt.show()\n"
   ]
  },
  {
   "cell_type": "markdown",
   "metadata": {},
   "source": [
    "## Noise Removal (slangs used in chat/message)\n",
    "Examples covered patterns like hhhhhhh, yeah|yup -> yes, u -> you, gr8 -> great"
   ]
  },
  {
   "cell_type": "code",
   "execution_count": 18,
   "metadata": {
    "collapsed": false
   },
   "outputs": [
    {
     "data": {
      "image/png": "[encoded data removed]",
      "text/plain": [
       "<matplotlib.figure.Figure at 0x9ed57f0>"
      ]
     },
     "metadata": {},
     "output_type": "display_data"
    }
   ],
   "source": [
    "import re\n",
    "i=0\n",
    "for word1 in wordlist:\n",
    "    wordlist[i]=word1.lower()\n",
    "    wordlist[i]=word1.replace('.','').replace(',','').replace(':','').replace(';','').replace('!','').replace('?','').replace('(','').replace(')','')       \n",
    "    searchObj= re.search(r'aaa+|bbb+|ccc+|ddd+|eee+|fff+|ggg+|hhh+|iii+|jjj+|kkk+|lll+|mmm+|nnn+|ooo+|ppp+|qqq+|rrr+|sss+|ttt+|uuu+|vvv+|www+|xxx+|yyy+|zzz+',word1,re.M|re.I)\n",
    "    if searchObj:\n",
    "        strpattern=searchObj.group()\n",
    "        wordlist[i]=word1.replace(strpattern,strpattern[0])\n",
    "    searchObj=re.search(r'yeah|yup',word1,re.M|re.I)\n",
    "    if searchObj:\n",
    "        wordlist[i]=word1.replace(searchObj.group(),\"yes\")\n",
    "    if(word1==\"gr8\"):\n",
    "        wordlist[i]=\"great\"  \n",
    "    if(word1==\"u\"):\n",
    "        wordlist[i]=\"you\"\n",
    "    i=i+1   \n",
    "wordset=set(wordlist)\n",
    "y=[]\n",
    "for item in wordset:\n",
    "    y.append(wordlist.count(item))\n",
    "N = len(y)\n",
    "x = range(N)\n",
    "width = 1/0.5\n",
    "plt.bar(x, y, width, color=\"blue\")\n",
    "plt.show()"
   ]
  },
  {
   "cell_type": "markdown",
   "metadata": {},
   "source": [
    "## Using NLTK "
   ]
  },
  {
   "cell_type": "code",
   "execution_count": 7,
   "metadata": {
    "collapsed": false
   },
   "outputs": [
    {
     "data": {
      "image/png": "[encoded data removed]",
      "text/plain": [
       "<matplotlib.figure.Figure at 0xad0e358>"
      ]
     },
     "metadata": {},
     "output_type": "display_data"
    }
   ],
   "source": [
    "wordlist = nltk.word_tokenize(content)\n",
    "wordset=set(wordlist)\n",
    "y=[]\n",
    "for item in wordset:\n",
    "    y.append(wordlist.count(item))\n",
    "N = len(y)\n",
    "x = range(N)\n",
    "width = 1/0.5\n",
    "plt.bar(x, y, width, color=\"blue\")\n",
    "plt.show()\n"
   ]
  },
  {
   "cell_type": "markdown",
   "metadata": {},
   "source": [
    "## Using NLTK on a proper dataset from gutenberg corpus"
   ]
  },
  {
   "cell_type": "code",
   "execution_count": 8,
   "metadata": {
    "collapsed": true
   },
   "outputs": [],
   "source": [
    "content = nltk.corpus.gutenberg.raw(nltk.corpus.gutenberg.fileids()[0])"
   ]
  },
  {
   "cell_type": "code",
   "execution_count": 9,
   "metadata": {
    "collapsed": false
   },
   "outputs": [
    {
     "data": {
      "image/png": "[encoded data removed]",
      "text/plain": [
       "<matplotlib.figure.Figure at 0xa55acc0>"
      ]
     },
     "metadata": {},
     "output_type": "display_data"
    }
   ],
   "source": [
    "wordlist = nltk.word_tokenize(content)\n",
    "wordset=set(wordlist)\n",
    "y=[]\n",
    "for item in wordset:\n",
    "    y.append(wordlist.count(item))\n",
    "N = len(y)\n",
    "x = range(N)\n",
    "width = 1/0.5\n",
    "plt.bar(x, y, width, color=\"blue\")\n",
    "plt.show()\n"
   ]
  },
  {
   "cell_type": "markdown",
   "metadata": {},
   "source": [
    "## Using Stemmer"
   ]
  },
  {
   "cell_type": "code",
   "execution_count": 10,
   "metadata": {
    "collapsed": false
   },
   "outputs": [
    {
     "data": {
      "image/png": "[encoded data removed]",
      "text/plain": [
       "<matplotlib.figure.Figure at 0xb8227b8>"
      ]
     },
     "metadata": {},
     "output_type": "display_data"
    }
   ],
   "source": [
    "porter = nltk.PorterStemmer()\n",
    "wordlist = nltk.word_tokenize(content)\n",
    "i=0\n",
    "for word1 in wordlist:\n",
    "    wordlist[i]=porter.stem_word(word1)\n",
    "    i=i+1\n",
    "#print wordlist\n",
    "wordset=set(wordlist)\n",
    "y=[]\n",
    "for item in wordset:\n",
    "    y.append(wordlist.count(item))\n",
    "N = len(y)\n",
    "x = range(N)\n",
    "width = 1/0.5\n",
    "plt.bar(x, y, width, color=\"blue\")\n",
    "plt.show()"
   ]
  },
  {
   "cell_type": "markdown",
   "metadata": {},
   "source": [
    "## Using WordnetLemmatizer"
   ]
  },
  {
   "cell_type": "code",
   "execution_count": 12,
   "metadata": {
    "collapsed": false
   },
   "outputs": [
    {
     "data": {
      "image/png": "[encoded data removed]",
      "text/plain": [
       "<matplotlib.figure.Figure at 0xa779ef0>"
      ]
     },
     "metadata": {},
     "output_type": "display_data"
    }
   ],
   "source": [
    "wordlist = nltk.word_tokenize(content)\n",
    "wnl = nltk.WordNetLemmatizer()\n",
    "i=0\n",
    "for word1 in wordlist:\n",
    "   wordlist[i]= wnl.lemmatize(word1)\n",
    "   i=i+1\n",
    "wordset=set(wordlist)\n",
    "y=[]\n",
    "for item in wordset:\n",
    "    y.append(wordlist.count(item))\n",
    "N = len(y)\n",
    "x = range(N)\n",
    "width = 1/0.5\n",
    "plt.bar(x, y, width, color=\"blue\")\n",
    "plt.show()"
   ]
  },
  {
   "cell_type": "code",
   "execution_count": null,
   "metadata": {
    "collapsed": true
   },
   "outputs": [],
   "source": []
  }
 ],
 "metadata": {
  "kernelspec": {
   "display_name": "Python 2",
   "language": "python",
   "name": "python2"
  },
  "language_info": {
   "codemirror_mode": {
    "name": "ipython",
    "version": 2
   },
   "file_extension": ".py",
   "mimetype": "text/x-python",
   "name": "python",
   "nbconvert_exporter": "python",
   "pygments_lexer": "ipython2",
   "version": "2.7.11"
  }
 },
 "nbformat": 4,
 "nbformat_minor": 0
}
