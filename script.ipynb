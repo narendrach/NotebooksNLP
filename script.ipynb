{
 "cells": [
  {
   "cell_type": "code",
   "execution_count": null,
   "metadata": {
    "collapsed": false
   },
   "outputs": [],
   "source": [
    "import numpy as np\n",
    "import pandas as pd\n",
    "import seaborn as sns\n",
    "import matplotlib as mpl\n",
    "import matplotlib.pyplot as plt\n",
    "from collections import Counter\n",
    "import matplotlib.patches as mpatches\n",
    "sns.set_style(\"white\")"
   ]
  },
  {
   "cell_type": "code",
   "execution_count": null,
   "metadata": {
    "collapsed": false
   },
   "outputs": [],
   "source": [
    "plt.rcParams[\"axes.labelsize\"] = 16.\n",
    "plt.rcParams[\"xtick.labelsize\"] = 14.\n",
    "plt.rcParams[\"ytick.labelsize\"] = 14.\n",
    "plt.rcParams[\"legend.fontsize\"] = 11."
   ]
  },
  {
   "cell_type": "code",
   "execution_count": null,
   "metadata": {
    "collapsed": false
   },
   "outputs": [],
   "source": [
    "battles = pd.read_csv(\"../input/battles.csv\")\n",
    "character_deaths = pd.read_csv(\"../input/character-deaths.csv\")\n",
    "character_predictions = pd.read_csv(\"../input/character-predictions.csv\")"
   ]
  },
  {
   "cell_type": "markdown",
   "metadata": {},
   "source": [
    "### New fields \n",
    "1. *defender_count* - Number of major houses on defending side\n",
    "2. *attacker_count* - Number of major houses on attacking side\n",
    "3. *att_comm_count* - Number of commanders on attacking side\n",
    "4. *no_of_books* - Number of books a character appeared in"
   ]
  },
  {
   "cell_type": "code",
   "execution_count": null,
   "metadata": {
    "collapsed": false
   },
   "outputs": [],
   "source": [
    "battles.loc[:, \"defender_count\"] = (4 - battles[[\"defender_1\", \"defender_2\", \"defender_3\", \"defender_4\"]].isnull().sum(axis = 1))\n",
    "battles.loc[:, \"attacker_count\"] = (4 - battles[[\"attacker_1\", \"attacker_2\", \"attacker_3\", \"attacker_4\"]].isnull().sum(axis = 1))\n",
    "battles.loc[:, \"att_comm_count\"] = [len(x) if type(x) == list else np.nan for x in battles.attacker_commander.str.split(\",\")]\n",
    "character_predictions.loc[:, \"no_of_books\"] = character_predictions[[x for x in character_predictions.columns if x.startswith(\"book\")]].sum(axis = 1)"
   ]
  },
  {
   "cell_type": "markdown",
   "metadata": {},
   "source": [
    "### Major death/capture events by year"
   ]
  },
  {
   "cell_type": "code",
   "execution_count": null,
   "metadata": {
    "collapsed": false
   },
   "outputs": [],
   "source": [
    "p = battles.groupby('year').sum()[[\"major_death\", \"major_capture\"]].plot(kind = 'bar', figsize = (15, 6), rot = 0)\n",
    "_ = p.set_xlabel(\"Year\"), p.set_ylabel(\"No. of Death/Capture Events\"), p.legend([\"Major Deaths\", \"Major Captures\"])"
   ]
  },
  {
   "cell_type": "markdown",
   "metadata": {},
   "source": [
    "### Impact of army size on outcome\n",
    "[Based on ggplot code from this notebook](https://github.com/chrisalbon/war_of_the_five_kings_dataset/blob/master/exploratory_analysis.ipynb)"
   ]
  },
  {
   "cell_type": "code",
   "execution_count": null,
   "metadata": {
    "collapsed": false
   },
   "outputs": [],
   "source": [
    "data = battles.dropna(axis = 0, subset = [[\"attacker_size\", \"defender_size\", \"attacker_outcome\"]]).copy(deep = True)\n",
    "colors = [sns.color_palette()[0] if x == \"win\" else \"lightgray\" for x in data.attacker_outcome.values]\n",
    "p = data.plot(kind = \"scatter\", x = \"attacker_size\", y = \"defender_size\", c = colors, figsize = (15, 6), s = 100, lw = 2.)\n",
    "_ = p.set_xlabel(\"Attacker Size\"), p.set_ylabel(\"Defender Size\")"
   ]
  },
  {
   "cell_type": "markdown",
   "metadata": {},
   "source": [
    "### How often were there more than one major houses on the attacking side?"
   ]
  },
  {
   "cell_type": "code",
   "execution_count": null,
   "metadata": {
    "collapsed": false
   },
   "outputs": [],
   "source": [
    "p = battles.attacker_count.value_counts().sort_index().plot(kind = 'bar', figsize = (15, 6), rot = 0)\n",
    "_ = p.set_xlabel(\"No. of Major Attacker Houses\"), p.set_ylabel(\"Count\")"
   ]
  },
  {
   "cell_type": "markdown",
   "metadata": {},
   "source": [
    "### Which pairs fought the most battles?"
   ]
  },
  {
   "cell_type": "code",
   "execution_count": null,
   "metadata": {
    "collapsed": false
   },
   "outputs": [],
   "source": [
    "#Ignoring records where either attacker_king or defender_king is null. Also ignoring one record where both have the same value.\n",
    "c = list(Counter([tuple(set(x)) for x in battles.dropna(subset = [\"attacker_king\", \"defender_king\"])[[\"attacker_king\", \"defender_king\"]].values if len(set(x)) > 1]).items())\n",
    "p = pd.DataFrame(c).plot(kind = 'barh', figsize = (9, 6))\n",
    "_ = p.set_yticklabels([\"%s vs. %s\" % (x[0], x[1]) for x in list(zip(*c))[0]]), p.set_xlabel(\"No. of Battles\"), p.legend(\"\")"
   ]
  },
  {
   "cell_type": "markdown",
   "metadata": {},
   "source": [
    "### How many commanders did armies of different kings have?"
   ]
  },
  {
   "cell_type": "code",
   "execution_count": null,
   "metadata": {
    "collapsed": false
   },
   "outputs": [],
   "source": [
    "plt.figure(figsize = (14, 6))\n",
    "sns.boxplot(\"att_comm_count\", \"attacker_king\", data = battles, saturation = .6, fliersize = 10.)\n",
    "sns.axlabel(\"No. of Attacker Commanders\", \"Attacker King\")\n",
    "_ = plt.xticks(range(8))"
   ]
  },
  {
   "cell_type": "markdown",
   "metadata": {},
   "source": [
    "### How many major death/capture events occur in each region?"
   ]
  },
  {
   "cell_type": "code",
   "execution_count": null,
   "metadata": {
    "collapsed": false
   },
   "outputs": [],
   "source": [
    "data = battles.groupby(\"region\").sum()[[\"major_death\", \"major_capture\"]].sort_values(\"major_death\", ascending = False).copy(deep = True)\n",
    "p = battles.region.value_counts().to_frame().merge(\n",
    "    data[[\"major_death\"]], left_index = True, right_index = True).merge(\n",
    "    data[[\"major_capture\"]], left_index = True, right_index = True).plot(\n",
    "    kind = 'bar', figsize = (15, 6), color = [sns.color_palette()[1], \"grey\", \"darkblue\"], rot = 0)\n",
    "_ = p.set_xlabel(\"Region\"), p.set_ylabel(\"No. of Events\"), p.legend([\"No. of Battles\", \"Major Deaths\", \"Major Captures\"])"
   ]
  },
  {
   "cell_type": "markdown",
   "metadata": {},
   "source": [
    "### Is there a relationship between survival and having dead relations?"
   ]
  },
  {
   "cell_type": "code",
   "execution_count": null,
   "metadata": {
    "collapsed": false
   },
   "outputs": [],
   "source": [
    "data = character_predictions.groupby([\"boolDeadRelations\", \"isAlive\"]).count()[\"S.No\"].unstack().copy(deep = True)\n",
    "p = data.div(data.sum(axis = 1), axis = 0).plot.barh(stacked = True, rot = 0, figsize = (15, 6), width = .4)\n",
    "_ = p.set_yticklabels([\"No\", \"Yes\"]), p.set_xticklabels(\"\"), p.legend([\"Dead\", \"Alive\"], fontsize = 12.)\n",
    "_ = p.set_ylabel(\"Has Dead Relations\"), p.set_xlabel(\"Proportion of Dead vs. Alive\")"
   ]
  },
  {
   "cell_type": "markdown",
   "metadata": {},
   "source": [
    "### How does appearing in more books relate to survival?"
   ]
  },
  {
   "cell_type": "code",
   "execution_count": null,
   "metadata": {
    "collapsed": false
   },
   "outputs": [],
   "source": [
    "data = character_predictions.groupby([\"no_of_books\", \"isAlive\"]).count()[\"S.No\"].unstack().copy(deep = True)\n",
    "p = data.div(data.sum(axis = 1), axis = 0).plot.barh(stacked = True, rot = 0, figsize = (15, 8), width = .5)\n",
    "_ = p.set_xticklabels(\"\"), p.legend([\"Dead\", \"Alive\"], fontsize = 12., loc = \"upper right\", ncol = 2, borderpad = -.15)\n",
    "_ = p.set_ylabel(\"No. of Books\"), p.set_xlabel(\"Proportion of Dead vs. Alive\")"
   ]
  },
  {
   "cell_type": "markdown",
   "metadata": {},
   "source": [
    "### What is the relationship between popularity, number of dead relations, and age?\n",
    "_Considering only records with valid age_"
   ]
  },
  {
   "cell_type": "code",
   "execution_count": null,
   "metadata": {
    "collapsed": false
   },
   "outputs": [],
   "source": [
    "p = sns.pairplot(character_predictions[(character_predictions.age >= 0)][[\"popularity\", \"numDeadRelations\", \"age\", \"isAlive\"]], hue = \"isAlive\", vars = [\"popularity\", \"numDeadRelations\", \"age\"], kind = \"reg\", size = 4.)\n",
    "_ = p.axes[0][0].set_ylabel(\"Popularity\"), p.axes[1][0].set_ylabel(\"No. of Dead Relations\"), p.axes[2][0].set_ylabel(\"Age\")\n",
    "_ = p.axes[2][0].set_xlabel(\"Age\"), p.axes[2][1].set_xlabel(\"No. of Dead Relations\"), p.axes[2][2].set_xlabel(\"Age\")"
   ]
  },
  {
   "cell_type": "markdown",
   "metadata": {},
   "source": [
    "### How does culture relate to survival?\n",
    "For this, we will rename cultures using (ahem) domain knowledge as many of the culture values map to a single culture."
   ]
  },
  {
   "cell_type": "code",
   "execution_count": null,
   "metadata": {
    "collapsed": false
   },
   "outputs": [],
   "source": [
    "cult = {\n",
    "    'Summer Islands': ['summer islands', 'summer islander', 'summer isles'],\n",
    "    'Ghiscari': ['ghiscari', 'ghiscaricari',  'ghis'],\n",
    "    'Asshai': [\"asshai'i\", 'asshai'],\n",
    "    'Lysene': ['lysene', 'lyseni'],\n",
    "    'Andal': ['andal', 'andals'],\n",
    "    'Braavosi': ['braavosi', 'braavos'],\n",
    "    'Dornish': ['dornishmen', 'dorne', 'dornish'],\n",
    "    'Myrish': ['myr', 'myrish', 'myrmen'],\n",
    "    'Westermen': ['westermen', 'westerman', 'westerlands'],\n",
    "    'Westerosi': ['westeros', 'westerosi'],\n",
    "    'Stormlander': ['stormlands', 'stormlander'],\n",
    "    'Norvoshi': ['norvos', 'norvoshi'],\n",
    "    'Northmen': ['the north', 'northmen'],\n",
    "    'Free Folk': ['wildling', 'first men', 'free folk'],\n",
    "    'Qartheen': ['qartheen', 'qarth'],\n",
    "    'Reach': ['the reach', 'reach', 'reachmen'],\n",
    "}\n",
    "\n",
    "def get_cult(value):\n",
    "    value = value.lower()\n",
    "    v = [k for (k, v) in cult.items() if value in v]\n",
    "    return v[0] if len(v) > 0 else value.title()"
   ]
  },
  {
   "cell_type": "code",
   "execution_count": null,
   "metadata": {
    "collapsed": false
   },
   "outputs": [],
   "source": [
    "character_predictions.loc[:, \"culture\"] = [get_cult(x) for x in character_predictions.culture.fillna(\"\")]\n",
    "data = character_predictions.groupby([\"culture\", \"isAlive\"]).count()[\"S.No\"].unstack().copy(deep = True)\n",
    "data.loc[:, \"total\"]= data.sum(axis = 1)\n",
    "p = data[data.index != \"\"].sort_values(\"total\")[[0, 1]].plot.barh(stacked = True, rot = 0, figsize = (14, 12),)\n",
    "_ = p.set_ylabel(\"Culture\"), p.set_xlabel(\"No. of Characters\"), p.legend([\"Dead\", \"Alive\"], fontsize = 12., loc = \"lower right\")"
   ]
  },
  {
   "cell_type": "markdown",
   "metadata": {},
   "source": [
    "### Do larger armies necessarily win?\n",
    "The results for this one are, well, weird as you can see.\n",
    "\n",
    "To be fair, though, I have only considered battles with valid values for *attacker\\_size* and *defender\\_size*, which reduces the record count to 16 down from 37. I am not a GoT fan (yet) nor have I watched the TV series.\n",
    "\n",
    "I read about one of the battles with NaN _attacker\\_size_ on the [GoT Wikia](http://gameofthrones.wikia.com/wiki/Battle_at_the_Mummer's_Ford), wherein the following is stated under the _Forces_ section:\n",
    "> A raiding party was reported by the Riverlands smallfolk refugees but the Iron Throne detachment was met by a considerably larger force.\n",
    "\n",
    "Based on this, if we assumed that *attacker\\_size* was larger, it would count in favor of the position that larger armies are likelier to win. However, we do not have this data for the remaining 20 battles so we cannot say anything conclusively.\n",
    "\n",
    "If you are knowledgeable about GoT, do comment below on this."
   ]
  },
  {
   "cell_type": "code",
   "execution_count": null,
   "metadata": {
    "collapsed": false
   },
   "outputs": [],
   "source": [
    "data = battles.dropna(subset = [\"attacker_size\", \"defender_size\"]).copy(deep = True)\n",
    "data = (data.attacker_size - data.defender_size).to_frame().merge(battles.attacker_outcome.to_frame(), left_index = True, right_index = True)\n",
    "data = data[data[0] != 0]\n",
    "p = data[0].plot.barh(figsize = (12, 8), width = .8, color = [sns.color_palette()[0] if x == \"win\" else sns.color_palette()[2] if x == \"loss\" else \"white\" for x in data.attacker_outcome.values])\n",
    "plt.legend(handles = [mpatches.Patch(color = sns.color_palette()[0], label = \"Win\", aa = True), mpatches.Patch(color = sns.color_palette()[2], label = \"Loss\", aa = True)])\n",
    "_ = plt.axvline(0, color = 'k'), plt.yticks(range(len(data)), battles.name.iloc[data.index].values)\n",
    "_ = plt.xlabel(\"Difference in Army Size (attacker_size - defender_size)\"), plt.ylabel(\"Battle Name\")"
   ]
  },
  {
   "cell_type": "markdown",
   "metadata": {},
   "source": [
    "### How often did kings fight different types of battles?\n",
    "The data contains four types of battles of which _Pitched Battle_ is the most frequent and _Razing_ the least.\n",
    "\n",
    "It turns out that _Ambush_ seems to be Robb Stark's favorite type of attack. All five of his _Ambush_ type battles are against Joffrey/Tommen Baratheon. Robb Stark has also been a target of an ambush: twice by Balon/Euron Greyjoy and thrice by Joffrey/Tommen Baratheon.\n",
    "\n",
    "Balon/Euron Greyjoy has fought each type of battle at least once as an attacker while Joffrey/Tommen Baratheon has done so as a defender.\n",
    "\n",
    "See chart below.\n",
    "\n",
    "*(Using code from matplotlib's radar chart [example](http://matplotlib.org/examples/api/radar_chart.html).)*"
   ]
  },
  {
   "cell_type": "code",
   "execution_count": null,
   "metadata": {
    "collapsed": false
   },
   "outputs": [],
   "source": [
    "from matplotlib.path import Path\n",
    "from matplotlib.spines import Spine\n",
    "from matplotlib.projections.polar import PolarAxes\n",
    "from matplotlib.projections import register_projection\n",
    "\n",
    "def radar_factory(num_vars, frame = \"circle\"):\n",
    "    theta = np.linspace(0, 2 * np.pi, num_vars, endpoint = False)\n",
    "    theta += np.pi / 2\n",
    "\n",
    "    def draw_poly_patch(self):\n",
    "        verts = unit_poly_verts(theta)\n",
    "        return plt.Polygon(verts, closed = True, edgecolor = 'k')\n",
    "\n",
    "    def draw_circle_patch(self):\n",
    "        return plt.Circle((0.5, 0.5), 0.5)\n",
    "\n",
    "    patch_dict = {'polygon': draw_poly_patch, 'circle': draw_circle_patch}\n",
    "    if frame not in patch_dict: raise ValueError('unknown value for `frame`: %s' % frame)\n",
    "\n",
    "    class RadarAxes(PolarAxes):\n",
    "        name, RESOLUTION, draw_patch = 'radar', 1, patch_dict[frame]\n",
    "\n",
    "        def fill(self, *args, **kwargs):\n",
    "            closed = kwargs.pop(\"closed\", True)\n",
    "            return super(RadarAxes, self).fill(closed = closed, *args, **kwargs)\n",
    "\n",
    "        def plot(self, *args, **kwargs):\n",
    "            lines = super(RadarAxes, self).plot(*args, **kwargs)\n",
    "            for line in lines: self._close_line(line)\n",
    "\n",
    "        def _close_line(self, line):\n",
    "            x, y = line.get_data()\n",
    "            if x[0] != x[-1]:\n",
    "                x = np.concatenate((x, [x[0]]))\n",
    "                y = np.concatenate((y, [y[0]]))\n",
    "                line.set_data(x, y)\n",
    "\n",
    "        def set_varlabels(self, labels):\n",
    "            self.set_thetagrids(np.degrees(theta), labels)\n",
    "\n",
    "        def _gen_axes_patch(self):\n",
    "            return self.draw_patch()\n",
    "\n",
    "        def _gen_axes_spines(self):\n",
    "            if frame == \"circle\": return PolarAxes._gen_axes_spines(self)\n",
    "            spine_type, verts = \"circle\", unit_poly_verts(theta)\n",
    "            verts.append(verts[0])\n",
    "            path = Path(verts)\n",
    "            spine = Spine(self, spine_type, path)\n",
    "            spine.set_transform(self.transAxes)\n",
    "            return {'polar': spine}\n",
    "    register_projection(RadarAxes)\n",
    "    return theta\n",
    "\n",
    "def unit_poly_verts(theta):\n",
    "    x0, y0, r = [0.5] * 3\n",
    "    verts = [(r * np.cos(t) + x0, r * np.sin(t) + y0) for t in theta]\n",
    "    return verts\n",
    "\n",
    "kings = list(battles.attacker_king.append(battles.defender_king).fillna(\"Unknown\").unique())\n",
    "battle_types = list(battles.battle_type.fillna(\"Unknown\").str.title().unique())\n",
    "\n",
    "def example_data():\n",
    "    data = battles[[\"battle_type\", \"attacker_king\", \"defender_king\", \"name\"]].copy(deep = True).fillna(\"Unknown\")\n",
    "    data.loc[:, \"battle_type\"] = data.battle_type.fillna(\"Unknown\").str.title()\n",
    "    grouped, ret_data = data.groupby([\"attacker_king\", \"battle_type\"]).count()[[\"name\"]], [battle_types]\n",
    "    ret_data.append((\"As Attacker King\", [[grouped.loc[(kings[j], battle_types[i])].values[0]\n",
    "                                    if (kings[j], battle_types[i]) in grouped.index else 0\n",
    "                                    for i in range(len(battle_types))] for j in range(len(kings))]))\n",
    "    grouped = data.groupby([\"defender_king\", \"battle_type\"]).count()[[\"name\"]]\n",
    "    ret_data.append((\"As Defender King\", [[grouped.loc[(kings[j], battle_types[i])].values[0]\n",
    "                                    if (kings[j], battle_types[i]) in grouped.index else 0\n",
    "                                    for i in range(len(battle_types))] for j in range(len(kings))]))\n",
    "    return ret_data\n",
    "\n",
    "N = 5\n",
    "theta, data = radar_factory(N, frame = \"polygon\"), example_data()\n",
    "spoke_labels, fig = data.pop(0), plt.figure(figsize = (14, 14))\n",
    "fig.subplots_adjust(wspace = 0.35, hspace = 0.20, top = 0.85, bottom = 0.05)\n",
    "colors = sns.color_palette() + [\"k\"]\n",
    "for n, (title, case_data) in enumerate(data):\n",
    "    ax, _ = fig.add_subplot(2, 2, n + 1, projection = \"radar\"), plt.rgrids([1, 2, 3, 4, 5])\n",
    "    ax.set_title(title, weight = \"bold\", position = (0.5, 1.1), horizontalalignment = \"center\", verticalalignment = \"center\", fontsize = 13.)\n",
    "    for d, color in zip(case_data, colors):\n",
    "        ax.plot(theta, d, color = color)\n",
    "        ax.fill(theta, d, facecolor = color, alpha = 0.5)\n",
    "    ax.set_varlabels(spoke_labels)\n",
    "plt.subplot(2, 2, 1)\n",
    "labels = kings\n",
    "legend = plt.legend(labels, loc = (.95, .95), labelspacing = 0.1)\n",
    "plt.setp(legend.get_texts(), fontsize = \"large\")\n",
    "plt.figtext(0.5, 0.965, \"Types of Battles Fought By Kings as Attacker/Defender\", ha = \"center\", color = \"k\", size = 16.)\n",
    "plt.show()"
   ]
  },
  {
   "cell_type": "code",
   "execution_count": null,
   "metadata": {
    "collapsed": false
   },
   "outputs": [],
   "source": [
    "death_preds = character_predictions.copy(deep = True)"
   ]
  },
  {
   "cell_type": "markdown",
   "metadata": {},
   "source": [
    "### Predictive Experiment\n",
    "I have added this quick predictive experiment to complete the analysis. For this one, I did not have enough time to go into much depth. However, I will try and add more things as and when I get time."
   ]
  },
  {
   "cell_type": "code",
   "execution_count": null,
   "metadata": {
    "collapsed": false
   },
   "outputs": [],
   "source": [
    "from xgboost import plot_importance\n",
    "from xgboost import XGBClassifier as XGBC\n",
    "from sklearn.linear_model import LogisticRegression\n",
    "from sklearn.metrics import roc_auc_score, roc_curve, log_loss, confusion_matrix, precision_score, recall_score, classification_report, accuracy_score"
   ]
  },
  {
   "cell_type": "markdown",
   "metadata": {},
   "source": [
    "#### A bit of preprocessing\n",
    "We quickly convert non-numeric categorical features to numeric. Then we drop some columns and replace missing values with -1."
   ]
  },
  {
   "cell_type": "code",
   "execution_count": null,
   "metadata": {
    "collapsed": false
   },
   "outputs": [],
   "source": [
    "death_preds.loc[:, \"culture\"] = [get_cult(x) for x in death_preds.culture.fillna(\"\")]\n",
    "death_preds.loc[:, \"title\"] = pd.factorize(death_preds.title)[0]\n",
    "death_preds.loc[:, \"culture\"] = pd.factorize(death_preds.culture)[0]\n",
    "death_preds.loc[:, \"mother\"] = pd.factorize(death_preds.mother)[0]\n",
    "death_preds.loc[:, \"father\"] = pd.factorize(death_preds.father)[0]\n",
    "death_preds.loc[:, \"heir\"] = pd.factorize(death_preds.heir)[0]\n",
    "death_preds.loc[:, \"house\"] = pd.factorize(death_preds.house)[0]\n",
    "death_preds.loc[:, \"spouse\"] = pd.factorize(death_preds.spouse)[0]\n",
    "\n",
    "death_preds.drop([\"name\", \"alive\", \"pred\", \"plod\", \"isAlive\"], 1, inplace = True)\n",
    "death_preds.columns = map(lambda x: x.replace(\".\", \"\").replace(\"_\", \"\"), death_preds.columns)\n",
    "death_preds.fillna(value = -1, inplace = True)"
   ]
  },
  {
   "cell_type": "markdown",
   "metadata": {},
   "source": [
    "#### Is there a class imbalance?\n",
    "Let us take a look at the class distribution now."
   ]
  },
  {
   "cell_type": "code",
   "execution_count": null,
   "metadata": {
    "collapsed": false
   },
   "outputs": [],
   "source": [
    "f, ax = plt.subplots(1, 2, figsize = (15, 7))\n",
    "f.suptitle(\"Class Distribution\", fontsize = 18.)\n",
    "_ = death_preds.actual.value_counts().plot.bar(ax = ax[0], rot = 0, color = (sns.color_palette()[0], sns.color_palette()[2])).set(xticklabels = [\"Alive\", \"Deceased\"])\n",
    "_ = death_preds.actual.value_counts().plot.pie(labels = (\"Alive\", \"Deceased\"), autopct = \"%.2f%%\", label = \"\", fontsize = 13., ax = ax[1],\\\n",
    "colors = (sns.color_palette()[0], sns.color_palette()[2]), wedgeprops = {\"linewidth\": 1.5, \"edgecolor\": \"#F7F7F7\"}), ax[1].texts[1].set_color(\"#F7F7F7\"), ax[1].texts[3].set_color(\"#F7F7F7\")"
   ]
  },
  {
   "cell_type": "markdown",
   "metadata": {},
   "source": [
    "The class distribution indicates an imbalance. There are many more characters alive than dead. There are several well-known ways to tackle this problem.\n",
    "\n",
    "Two of the simplest ways are undersampling and oversampling. In this case, we will undersample the majority class. We will draw ~70% samples without replacement from the minority *Deceased* class. We will draw an equal number of samples (~350) from the majority *Alive* class.\n",
    "\n",
    "Using this train-test split we will build and compare two models: an XGB Classifier model and a Logistic Regression model."
   ]
  },
  {
   "cell_type": "code",
   "execution_count": null,
   "metadata": {
    "collapsed": false
   },
   "outputs": [],
   "source": [
    "X = death_preds[death_preds.actual == 0].sample(350, random_state = 62).append(death_preds[death_preds.actual == 1].sample(350, random_state = 62)).copy(deep = True).astype(np.float64)\n",
    "Y = X.actual.values\n",
    "tX = death_preds[~death_preds.index.isin(X.index)].copy(deep = True).astype(np.float64)\n",
    "tY = tX.actual.values\n",
    "X.drop([\"SNo\", \"actual\", \"DateoFdeath\"], 1, inplace = True)\n",
    "tX.drop([\"SNo\", \"actual\", \"DateoFdeath\"], 1, inplace = True)"
   ]
  },
  {
   "cell_type": "markdown",
   "metadata": {},
   "source": [
    "#### XGB Classifier"
   ]
  },
  {
   "cell_type": "code",
   "execution_count": null,
   "metadata": {
    "collapsed": false
   },
   "outputs": [],
   "source": [
    "clf_xgb = XGBC(subsample = .8, colsample_bytree = .8, seed = 14, max_depth = 3).fit(X, Y)\n",
    "preds_xgb = clf_xgb.predict_proba(tX)\n",
    "ax = plot_importance(clf_xgb.booster(), grid = False)\n",
    "_ = ax.set(frame_on = False, ylim = (0, len(clf_xgb.booster().get_fscore())), xticklabels = \"\", xlabel = \"\")"
   ]
  },
  {
   "cell_type": "markdown",
   "metadata": {},
   "source": [
    "#### Logistic Regression"
   ]
  },
  {
   "cell_type": "code",
   "execution_count": null,
   "metadata": {
    "collapsed": false
   },
   "outputs": [],
   "source": [
    "logreg = LogisticRegression(random_state = 14).fit(X, Y)\n",
    "preds_lr = logreg.predict_proba(tX)\n",
    "\n",
    "df = pd.DataFrame(list(zip(tX.columns, logreg.coef_[0])))\n",
    "df = df.reindex(df[1].abs().sort_values().index).set_index(0)\n",
    "ax = df.plot.barh(width = .33, legend = \"\", figsize = (12, 8))\n",
    "ax.set_title(\"Logistic Regression Coefficients\", y = 1.03, fontsize = 16.)\n",
    "_ = ax.set(frame_on = False, xlabel = \"\", xticklabels = \"\", ylabel = \"Features\")\n",
    "\n",
    "for i, label in enumerate(list(df.index)):\n",
    "    score = df.ix[label][1]\n",
    "    ax.annotate('%.3f' % score, (score + (-.18 if score < 0 else .02), i - .2), fontsize = 10.5)"
   ]
  },
  {
   "cell_type": "markdown",
   "metadata": {},
   "source": [
    "#### Comparison of XGB Classifier and Logistic Regression\n",
    "First we see the confusion matrices for both models. We will normalize these by their row-wise sums before visualizing."
   ]
  },
  {
   "cell_type": "code",
   "execution_count": null,
   "metadata": {
    "collapsed": false
   },
   "outputs": [],
   "source": [
    "f, ax = plt.subplots(1, 2, figsize = (15, 7))\n",
    "f.suptitle(\"Normalized Confusion Matrices\", fontsize = 18.)\n",
    "def make_cm(p, t, axis):\n",
    "    cm = confusion_matrix(tY, np.argmax(p, axis = 1))\n",
    "    cm = cm.astype('float') / cm.sum(axis = 1)[:, np.newaxis]\n",
    "    _ = sns.heatmap(cm, square = True, xticklabels = [\"Deceased\", \"Alive\"], annot = True,\n",
    "                    annot_kws = {\"fontsize\": 13}, yticklabels = [\"Deceased\", \"Alive\"],\n",
    "                    cbar = True, cbar_kws = {\"orientation\": \"horizontal\"}, ax = ax[axis], cmap = \"Blues\").set(\n",
    "        xlabel = \"Predicted Class\", ylabel = \"Actual Class\", title = t)\n",
    "make_cm(preds_xgb, \"XGB Classifier\", 0)\n",
    "make_cm(preds_lr, \"Logistic Regression\", 1)"
   ]
  },
  {
   "cell_type": "markdown",
   "metadata": {},
   "source": [
    "Next, we see the scorecard of both models. We use the handy `classification_report` and a number of other functions from `sklearn.metrics` to look at different evaluation metrics such as AUC, log loss, and accuracy."
   ]
  },
  {
   "cell_type": "code",
   "execution_count": null,
   "metadata": {
    "collapsed": false
   },
   "outputs": [],
   "source": [
    "print(\"XGB Classifier Performance\\n\" + \"=\" * 26 + \"\\n\", classification_report(tY, np.argmax(preds_xgb, axis = 1), target_names = [\"Deceased\", \"Alive\"]))\n",
    "print(\"AUC      : %.4f\" % roc_auc_score(tY, preds_xgb[:, 1]))\n",
    "print(\"Accuracy : %.4f\" % accuracy_score(tY, np.argmax(preds_xgb, axis = 1)))\n",
    "print(\"Log Loss : %.4f\\n\\n\" % log_loss(tY, preds_xgb[:, 1]))\n",
    "print(\"Logistic Regression Performance\\n\" + \"=\" * 31 + \"\\n\", classification_report(tY, np.argmax(preds_lr, axis = 1), target_names = [\"Deceased\", \"Alive\"]))\n",
    "print(\"AUC      : %.4f\" % roc_auc_score(tY, preds_lr[:, 1]))\n",
    "print(\"Accuracy : %.4f\" % accuracy_score(tY, np.argmax(preds_lr, axis = 1)))\n",
    "print(\"Log Loss : %.4f\" % log_loss(tY, preds_lr[:, 1]))"
   ]
  },
  {
   "cell_type": "markdown",
   "metadata": {},
   "source": [
    "Finally, we look at the ROC curves for both models."
   ]
  },
  {
   "cell_type": "code",
   "execution_count": null,
   "metadata": {
    "collapsed": false
   },
   "outputs": [],
   "source": [
    "_ = plt.figure(figsize = (8, 8)), plt.plot(*roc_curve(tY, preds_xgb[:, 1])[:2]), plt.plot(*roc_curve(tY, preds_lr[:, 1])[:2], c = sns.color_palette()[1]), plt.legend([\"XGB Classifier\", \"Logistic Regression\"], loc = \"upper left\")\n",
    "_ = plt.plot((0., 1.), (0., 1.), \"--k\", alpha = .7), plt.xlabel(\"False Positive Rate\"), plt.ylabel(\"True Positive Rate\"), plt.title(\"ROC Curves\", fontsize = 16.)"
   ]
  }
 ],
 "metadata": {
  "kernelspec": {
   "display_name": "Python 2",
   "language": "python",
   "name": "python2"
  },
  "language_info": {
   "codemirror_mode": {
    "name": "ipython",
    "version": 2
   },
   "file_extension": ".py",
   "mimetype": "text/x-python",
   "name": "python",
   "nbconvert_exporter": "python",
   "pygments_lexer": "ipython2",
   "version": "2.7.11"
  }
 },
 "nbformat": 4,
 "nbformat_minor": 0
}
